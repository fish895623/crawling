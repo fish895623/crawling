{
 "cells": [
  {
   "cell_type": "markdown",
   "metadata": {},
   "source": [
    "# Essential packages & Base DataFrame Structure"
   ]
  },
  {
   "cell_type": "code",
   "execution_count": 18,
   "metadata": {},
   "outputs": [
    {
     "name": "stdout",
     "output_type": "stream",
     "text": [
      "Requirement already satisfied: bs4==0.0.1 in c:\\tools\\miniconda3\\lib\\site-packages (0.0.1)\n",
      "Requirement already satisfied: requests==2.25.1 in c:\\tools\\miniconda3\\lib\\site-packages (2.25.1)\n",
      "Requirement already satisfied: pandas==1.4.1 in c:\\tools\\miniconda3\\lib\\site-packages (1.4.1)\n",
      "Requirement already satisfied: beautifulsoup4 in c:\\tools\\miniconda3\\lib\\site-packages (from bs4==0.0.1) (4.10.0)\n",
      "Requirement already satisfied: urllib3<1.27,>=1.21.1 in c:\\tools\\miniconda3\\lib\\site-packages (from requests==2.25.1) (1.26.6)\n",
      "Requirement already satisfied: certifi>=2017.4.17 in c:\\tools\\miniconda3\\lib\\site-packages (from requests==2.25.1) (2021.10.8)\n",
      "Requirement already satisfied: chardet<5,>=3.0.2 in c:\\tools\\miniconda3\\lib\\site-packages (from requests==2.25.1) (4.0.0)\n",
      "Requirement already satisfied: idna<3,>=2.5 in c:\\tools\\miniconda3\\lib\\site-packages (from requests==2.25.1) (2.10)\n",
      "Requirement already satisfied: pytz>=2020.1 in c:\\tools\\miniconda3\\lib\\site-packages (from pandas==1.4.1) (2021.3)\n",
      "Requirement already satisfied: python-dateutil>=2.8.1 in c:\\tools\\miniconda3\\lib\\site-packages (from pandas==1.4.1) (2.8.2)\n",
      "Requirement already satisfied: numpy>=1.18.5 in c:\\tools\\miniconda3\\lib\\site-packages (from pandas==1.4.1) (1.22.2)\n",
      "Requirement already satisfied: six>=1.5 in c:\\tools\\miniconda3\\lib\\site-packages (from python-dateutil>=2.8.1->pandas==1.4.1) (1.16.0)\n",
      "Requirement already satisfied: soupsieve>1.2 in c:\\tools\\miniconda3\\lib\\site-packages (from beautifulsoup4->bs4==0.0.1) (2.3.1)\n",
      "Note: you may need to restart the kernel to use updated packages.\n"
     ]
    }
   ],
   "source": [
    "%pip install bs4==0.0.1 requests==2.25.1 pandas==1.4.1"
   ]
  },
  {
   "cell_type": "code",
   "execution_count": 19,
   "metadata": {},
   "outputs": [],
   "source": [
    "import gc\n",
    "import pandas as pd\n",
    "import requests\n",
    "from bs4 import BeautifulSoup\n",
    "\n",
    "gc.set_threshold(1000, 100, 100)\n",
    "\n",
    "URL = \"https://flixpatrol.com/top10/netflix/world/2021/full/#netflix-1\"\n",
    "MOVIES = {\n",
    "    \"title\": [],\n",
    "    \"points\": [],\n",
    "    \"countries\": [],\n",
    "    \"percountries\": [],\n",
    "    \"days\": [],\n",
    "    \"perdays\": [],\n",
    "    \"total\": [],\n",
    "}\n",
    "SERIES = {\n",
    "    \"title\": [],\n",
    "    \"points\": [],\n",
    "    \"countries\": [],\n",
    "    \"percountries\": [],\n",
    "    \"days\": [],\n",
    "    \"perdays\": [],\n",
    "    \"total\": [],\n",
    "}\n",
    "file_name = {\n",
    "    \"top10\": \"top10.csv\",\n",
    "    \"movie\": \"movie.csv\",\n",
    "    \"series\": \"series.csv\",\n",
    "}\n",
    "source = BeautifulSoup(requests.get(url=URL).text, features=\"html.parser\")"
   ]
  },
  {
   "cell_type": "markdown",
   "metadata": {},
   "source": [
    "# Movie"
   ]
  },
  {
   "cell_type": "code",
   "execution_count": 20,
   "metadata": {},
   "outputs": [],
   "source": [
    "movies = source.select(\"#netflix-1 > div.-mx-content > div > div > table > tbody > tr\")\n",
    "\n",
    "# 각 요소별로 저장\n",
    "for movie in movies:\n",
    "    MOVIES[\"title\"].append(\n",
    "        movie.select_one(\n",
    "            \"#netflix-1 > div.-mx-content > div > div > table > tbody > tr > td:nth-child(3)\"\n",
    "        ).text.strip()\n",
    "    )\n",
    "    MOVIES[\"points\"].append(\n",
    "        int(movie.select_one(\n",
    "            \"#netflix-1 > div.-mx-content > div > div > table > tbody > tr > td:nth-child(4)\"\n",
    "        ).text.strip().replace(\",\",\"\"))\n",
    "    )\n",
    "    MOVIES[\"countries\"].append(\n",
    "        int(movie.select_one(\n",
    "            \"#netflix-1 > div.-mx-content > div > div > table > tbody > tr > td:nth-child(6)\"\n",
    "        ).text.strip().replace(\",\",\"\"))\n",
    "    )\n",
    "    MOVIES[\"percountries\"].append(\n",
    "        int(movie.select_one(\n",
    "            \"#netflix-1 > div.-mx-content > div > div > table > tbody > tr > td:nth-child(7)\"\n",
    "        ).text.strip().replace(\",\",\"\"))\n",
    "    )\n",
    "    MOVIES[\"days\"].append(\n",
    "        int(movie.select_one(\n",
    "            \"#netflix-1 > div.-mx-content > div > div > table > tbody > tr > td:nth-child(8)\"\n",
    "        ).text.strip().replace(\",\",\"\"))\n",
    "    )\n",
    "    MOVIES[\"perdays\"].append(\n",
    "        int(movie.select_one(\n",
    "            \"#netflix-1 > div.-mx-content > div > div > table > tbody > tr > td:nth-child(9)\"\n",
    "        ).text.strip().replace(\",\",\"\"))\n",
    "    )\n",
    "    MOVIES[\"total\"].append(\n",
    "        int(movie.select_one(\n",
    "            \"#netflix-1 > div.-mx-content > div > div > table > tbody > tr > td:nth-child(10)\"\n",
    "        ).text.strip().replace(\",\", \"\"))\n",
    "    )"
   ]
  },
  {
   "cell_type": "markdown",
   "metadata": {},
   "source": [
    "# TV series"
   ]
  },
  {
   "cell_type": "code",
   "execution_count": 21,
   "metadata": {},
   "outputs": [],
   "source": [
    "series = source.select(\"#netflix-2 > div.-mx-content > div > div > table > tbody > tr\")\n",
    "for show in series:\n",
    "    SERIES[\"title\"].append(\n",
    "        show.select_one(\n",
    "            \".-mx-content > div > div > table > tbody > tr > td:nth-child(3)\"\n",
    "        ).text.strip()\n",
    "    )\n",
    "    SERIES[\"points\"].append(\n",
    "        int(show.select_one(\n",
    "            \".-mx-content > div > div > table > tbody > tr > td:nth-child(4)\"\n",
    "        ).text.strip().replace(\",\",\"\"))\n",
    "    )\n",
    "    SERIES[\"countries\"].append(\n",
    "        int(show.select_one(\n",
    "            \".-mx-content > div > div > table > tbody > tr > td:nth-child(6)\"\n",
    "        ).text.strip().replace(\",\",\"\"))\n",
    "    )\n",
    "    SERIES[\"percountries\"].append(\n",
    "        int(show.select_one(\n",
    "            \".-mx-content > div > div > table > tbody > tr > td:nth-child(7)\"\n",
    "        ).text.strip().replace(\",\",\"\"))\n",
    "    )\n",
    "    SERIES[\"days\"].append(\n",
    "        int(show.select_one(\n",
    "            \".-mx-content > div > div > table > tbody > tr > td:nth-child(8)\"\n",
    "        ).text.strip().replace(\",\",\"\"))\n",
    "    )\n",
    "    SERIES[\"perdays\"].append(\n",
    "        int(show.select_one(\n",
    "            \".-mx-content > div > div > table > tbody > tr > td:nth-child(9)\"\n",
    "        ).text.strip().replace(\",\",\"\"))\n",
    "    )\n",
    "    SERIES[\"total\"].append(\n",
    "        int(show.select_one(\n",
    "            \".-mx-content > div > div > table > tbody > tr > td:nth-child(10)\"\n",
    "        ).text.strip().replace(\",\",\"\"))\n",
    "    )"
   ]
  },
  {
   "cell_type": "markdown",
   "metadata": {},
   "source": [
    "# Export to csv"
   ]
  },
  {
   "cell_type": "code",
   "execution_count": 22,
   "metadata": {},
   "outputs": [],
   "source": [
    "MOVIES_DF = pd.DataFrame(MOVIES)\n",
    "SERIES_DF = pd.DataFrame(SERIES)\n",
    "\n",
    "MOVIES_DF.to_csv(path_or_buf=file_name['movie'], encoding=\"utf-8\")\n",
    "SERIES_DF.to_csv(path_or_buf=file_name['series'], encoding=\"utf-8\")"
   ]
  },
  {
   "cell_type": "markdown",
   "metadata": {},
   "source": [
    "# Top 10 Information"
   ]
  },
  {
   "cell_type": "code",
   "execution_count": 23,
   "metadata": {},
   "outputs": [],
   "source": [
    "URL = \"https://flixpatrol.com/top10/\"\n",
    "DATA = {\n",
    "    \"title\": [],\n",
    "    \"score\": [],\n",
    "}\n",
    "\n",
    "sources = BeautifulSoup(markup=requests.get(url=URL).text, features=\"html.parser\")\n",
    "# %%\n",
    "elements = sources.select(\n",
    "    \"#netflix-1 > div.-mx-content > div > div > table > tbody > tr\"\n",
    ")\n",
    "for i in elements:\n",
    "    DATA[\"title\"].append(\n",
    "        i.select_one(\n",
    "            \".-mx-content > div > div > table > tbody > tr > td > a > div:nth-child(2)\",\n",
    "        ).text.strip()\n",
    "    )\n",
    "    DATA[\"score\"].append(\n",
    "        int(i.select_one(\n",
    "            \".-mx-content > div > div > table > tbody > tr > td.table-td.w-12.text-right.text-gray-400.font-semibold\",\n",
    "        ).text.strip().replace(\",\",''))\n",
    "    )\n",
    "\n",
    "# %%\n",
    "TOP_10_df = pd.DataFrame(DATA)\n",
    "\n",
    "TOP_10_df.to_csv(path_or_buf=file_name['top10'], encoding=\"UTF-8\")"
   ]
  }
 ],
 "metadata": {
  "interpreter": {
   "hash": "fbff9bfab3ee0df4124016b4e010029cf2ec5864ce5e3c4aa09796cc364af95f"
  },
  "kernelspec": {
   "display_name": "Python 3.8.12 ('base')",
   "language": "python",
   "name": "python3"
  },
  "language_info": {
   "codemirror_mode": {
    "name": "ipython",
    "version": 3
   },
   "file_extension": ".py",
   "mimetype": "text/x-python",
   "name": "python",
   "nbconvert_exporter": "python",
   "pygments_lexer": "ipython3",
   "version": "3.8.12"
  },
  "orig_nbformat": 4
 },
 "nbformat": 4,
 "nbformat_minor": 2
}
